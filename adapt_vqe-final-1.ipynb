{
 "cells": [
  {
   "cell_type": "code",
   "execution_count": 181,
   "metadata": {},
   "outputs": [],
   "source": [
    "import qiskit\n",
    "import numpy as np\n",
    "from qiskit import QuantumCircuit\n",
    "import random as rd\n",
    "import math\n",
    "from qiskit import algorithms\n",
    "from qiskit.circuit import Parameter\n",
    "from qiskit.opflow import X,Z,I,CX,CZ\n",
    "SPSA = algorithms.optimizers.SPSA #choix de l'optimiseur avant la routine VQE \n",
    "from qiskit import Aer\n",
    "from qiskit.algorithms import eval_observables\n",
    "from qiskit.quantum_info.operators import Operator\n",
    "from qiskit.extensions import CRXGate\n",
    "from qiskit.opflow.primitive_ops import PrimitiveOp\n",
    "from qiskit.opflow import CircuitStateFn\n",
    "from qiskit.algorithms import VQE\n",
    "from qiskit.opflow import commutator\n",
    "from qiskit.utils import QuantumInstance, algorithm_globals\n",
    "from qiskit.algorithms.optimizers import SLSQP\n",
    "seed = 50\n",
    "algorithm_globals.random_seed = seed\n",
    "qi = QuantumInstance(Aer.get_backend('statevector_simulator'), seed_transpiler=seed, seed_simulator=seed)"
   ]
  },
  {
   "cell_type": "code",
   "execution_count": 182,
   "metadata": {},
   "outputs": [],
   "source": [
    "def ansatz(N): \n",
    "    qc = QuantumCircuit(N)\n",
    "    for k in range(N):\n",
    "        thet = rd.random()*2*math.pi\n",
    "        qc.rx(thet,k)\n",
    "    return(qc)\n",
    "\n",
    "def measure_energy(qc, operator): \n",
    "    psi = CircuitStateFn(qc)\n",
    "    return(psi.adjoint().compose(op).compose(psi).eval().real)\n",
    "\n",
    "def trans(gate, n, i):\n",
    "    #Envoie le \"gate\" de OperatorBase sur le qbit i, dont n est le nb total\n",
    "    k = gate.num_qubits\n",
    "    return(I.tensorpower(max(n-i-k, 0)) ^ gate ^ I.tensorpower(i))\n",
    "\n",
    "def L_ops():\n",
    "    #select operators from pool\n",
    "    n = N//2\n",
    "    L_c = []\n",
    "    OPS1 = OPS.copy()\n",
    "    for k in range(n):\n",
    "        j = int(rd.random()*len(OPS1))\n",
    "        L_c.append(OPS1[j])\n",
    "        del OPS1[j]\n",
    "    return(L_c)\n",
    "    \n",
    "def perm(k):\n",
    "    \"ici k est une liste de deux entiers distincts compris entre 0 et N-1\"\n",
    "    res = [i for i in range(N)] #on créée l'ordre identité\n",
    "    p0 = k[0]\n",
    "    p1 = k[1]\n",
    "    res[p1], res[p0 + 1] = p0 + 1, p1\n",
    "    return(res)\n",
    "\n",
    "def Next_op(L_grad, e): \n",
    "    kmax = 0\n",
    "    end = False \n",
    "    for k in range(0,len(L_grad)):\n",
    "        if L_grad[k][1] > L_grad[kmax][1] :\n",
    "            kmax = k\n",
    "    if L_grad[kmax][1] < e : \n",
    "        end = True \n",
    "    print(L_grad[kmax][1])\n",
    "    return(end,L_grad[kmax])\n",
    "\n",
    "noms_p = []\n",
    "for k in range(10000):\n",
    "    noms_p += [Parameter('theta_'+str(k))]\n"
   ]
  },
  {
   "cell_type": "code",
   "execution_count": 183,
   "metadata": {},
   "outputs": [],
   "source": [
    "#définition de l'hamiltonien\n",
    "\n",
    "N = 4\n",
    "J = 1\n",
    "h = 3\n",
    "\n",
    "\"Hamiltonien pour 2 qbits:\"\n",
    "\n",
    "H = - J * CX.compose(Z.compose(CX)) - h * (X ^ I)\n",
    "\n",
    "#Définition de l'hamiltonien du système\n",
    "def hi(N, i):\n",
    "    #n = nombre de qubits\n",
    "    #i = indice\n",
    "    if i >= N-1:\n",
    "        return('Error Hi: The number of qubits is too small')\n",
    "    H = (- J * CX.compose(Z.compose(CX))) - (h * (X ^ I))\n",
    "    if i != 0:\n",
    "        H = I.tensorpower(i) ^ H\n",
    "    if i + 1 == N-1:\n",
    "        return(H)\n",
    "    else:\n",
    "        H = H ^ I.tensorpower(N-i-2)\n",
    "    return(H)\n",
    "\n",
    "\n",
    "hamil = hi(N, 0)\n",
    "for i in range(1, N-1):\n",
    "    hamil += hi(N, i)\n"
   ]
  },
  {
   "cell_type": "code",
   "execution_count": 184,
   "metadata": {},
   "outputs": [],
   "source": [
    "# notre pool d'opérateurs est initialisé selon la méthode suivante \n",
    "OPS = []    \n",
    "for k in range(N): \n",
    "    OPS.append( [True,k])\n",
    "for k in range(N): \n",
    "    for j in range(N):\n",
    "        OPS.append([False,[k,j]])"
   ]
  },
  {
   "cell_type": "code",
   "execution_count": 185,
   "metadata": {},
   "outputs": [],
   "source": [
    "def gradient(ansatz, hamil):\n",
    "    \n",
    "    list = []\n",
    "    \n",
    "    L_c = L_ops()\n",
    "    \n",
    "    for k in L_c : \n",
    "        \n",
    "        if k[0] : \n",
    "            \n",
    "            operator = trans(X,N,k[1])\n",
    "            Com = commutator(hamil,operator)\n",
    "            Avg = measure_energy(ansatz,Com)\n",
    "            list.append([k,Avg])\n",
    "        \n",
    "        else : \n",
    "            \n",
    "            operator = trans(CX, N, k[1][0]).permute(perm(k[1])).compose(trans(Z,N,k[1][0])).compose(trans(CX, N, k[1][0]).permute(perm(k[1])))\n",
    "            \n",
    "            Com = commutator(hamil,operator)\n",
    "            \n",
    "            Avg = measure_energy(ansatz, Com)\n",
    "            \n",
    "            list.append([k,Avg])\n",
    "            \n",
    "    return(list)\n",
    "\n",
    "def grow_ansatz(Ansatz, operator, parameters):\n",
    "    n = len(parameters)\n",
    "    #parameters+=[noms_p[n]]\n",
    "    k = operator\n",
    "    if k[0]:\n",
    "        Ansatz.rx(noms_p[n],k[1])\n",
    "    else: \n",
    "        Ansatz.cx(k[1][0], k[1][1])\n",
    "        Ansatz.rz(noms_p[n],k[1][0])\n",
    "        Ansatz.cx(k[1][0], k[1][1])\n",
    "    return(Ansatz, parameters)\n",
    "\n",
    "def Vqe(Ansatz,Hamil): \n",
    "    seed = 50\n",
    "    algorithm_globals.random_seed = seed\n",
    "    qi = QuantumInstance(Aer.get_backend('statevector_simulator'), seed_transpiler=seed, seed_simulator=seed)\n",
    "    slsqp = SLSQP(maxiter=1000)\n",
    "    vqe = VQE(qc, optimizer=slsqp, quantum_instance=qi)\n",
    "    result = vqe.compute_minimum_eigenvalue(operator= PrimitiveOp(Operator(hamil)))\n",
    "    print(result)\n",
    "    optimizer_evals = result.optimizer_evals\n",
    "    return(result.optimal_parameters)\n",
    "        "
   ]
  },
  {
   "cell_type": "code",
   "execution_count": 186,
   "metadata": {},
   "outputs": [
    {
     "name": "stdout",
     "output_type": "stream",
     "text": [
      "-1.37e-16\n"
     ]
    }
   ],
   "source": [
    "N = 4\n",
    "Ansatz = ansatz(4)\n",
    "Gradient = 1000\n",
    "e = 0.01\n",
    "parameters = []\n",
    "\n",
    "while Gradient >= e :\n",
    "    \n",
    "    l = gradient(Ansatz, hamil) #step 1 calculation of the mean values of the commutators of the chosen pool operators with H\n",
    "    \n",
    "    Nop = Next_op(l,e)\n",
    "    \n",
    "    if Nop[0]:\n",
    "        \n",
    "        break \n",
    "    \n",
    "    grow_ansatz(Ansatz, Nop[1], parameters)\n",
    "    \n",
    "    parameters+=[noms_op[len(parameters)]]\n",
    "    \n",
    "    opt_parameters = Vqe(Ansatz, Hamil)\n",
    "    \n",
    "    Ansatz = Ansatz.bind_parameters(opt_parameters)\n",
    "    \n",
    "\n",
    "    \n",
    "    \n",
    "    \n",
    "    \n",
    "    "
   ]
  },
  {
   "cell_type": "code",
   "execution_count": null,
   "metadata": {},
   "outputs": [],
   "source": []
  },
  {
   "cell_type": "code",
   "execution_count": null,
   "metadata": {},
   "outputs": [],
   "source": []
  },
  {
   "cell_type": "code",
   "execution_count": null,
   "metadata": {},
   "outputs": [],
   "source": []
  },
  {
   "cell_type": "code",
   "execution_count": null,
   "metadata": {},
   "outputs": [],
   "source": []
  },
  {
   "cell_type": "code",
   "execution_count": null,
   "metadata": {},
   "outputs": [],
   "source": []
  },
  {
   "cell_type": "code",
   "execution_count": null,
   "metadata": {},
   "outputs": [],
   "source": []
  },
  {
   "cell_type": "code",
   "execution_count": null,
   "metadata": {},
   "outputs": [],
   "source": []
  },
  {
   "cell_type": "code",
   "execution_count": null,
   "metadata": {},
   "outputs": [],
   "source": []
  },
  {
   "cell_type": "code",
   "execution_count": 107,
   "metadata": {},
   "outputs": [],
   "source": []
  },
  {
   "cell_type": "code",
   "execution_count": 135,
   "metadata": {},
   "outputs": [
    {
     "data": {
      "text/plain": [
       "<qiskit.circuit.instructionset.InstructionSet at 0x13e01ec50>"
      ]
     },
     "execution_count": 135,
     "metadata": {},
     "output_type": "execute_result"
    }
   ],
   "source": [
    "qc = ansatz(4)\n",
    "qc.rx(noms_p[0],1)"
   ]
  },
  {
   "cell_type": "code",
   "execution_count": 137,
   "metadata": {},
   "outputs": [
    {
     "name": "stdout",
     "output_type": "stream",
     "text": [
      "{   'aux_operator_eigenvalues': None,\n",
      "    'cost_function_evals': 10,\n",
      "    'eigenstate': array([ 2.47153558e-05-3.02675814e-21j, -1.69910419e-21-1.38742386e-05j,\n",
      "       -1.49359862e-17-2.43923166e-01j, -1.36928970e-01+8.38448122e-18j,\n",
      "       -5.90619226e-21-4.82277198e-05j, -2.70731644e-05+3.31550641e-21j,\n",
      "       -4.75973650e-01+2.91449804e-17j,  1.63608574e-17+2.67193077e-01j,\n",
      "        3.89761763e-21+3.18264632e-05j,  1.78661374e-05-2.18797080e-21j,\n",
      "        3.14104791e-01-1.92333714e-17j, -1.07968659e-17-1.76326202e-01j,\n",
      "        6.21038095e-05-7.60552315e-21j, -4.26944461e-21-3.48626609e-05j,\n",
      "       -3.75305803e-17-6.12920889e-01j, -3.44069926e-01+2.10682067e-17j]),\n",
      "    'eigenvalue': (-0.20784022689169585+0j),\n",
      "    'optimal_circuit': None,\n",
      "    'optimal_parameters': {Parameter(theta_0): 4.0575650549409294},\n",
      "    'optimal_point': array([4.05756505]),\n",
      "    'optimal_value': -0.20784022689169585,\n",
      "    'optimizer_evals': None,\n",
      "    'optimizer_result': None,\n",
      "    'optimizer_time': 0.07729315757751465}\n"
     ]
    }
   ],
   "source": [
    "\n",
    "\n",
    "seed = 50\n",
    "algorithm_globals.random_seed = seed\n",
    "qi = QuantumInstance(Aer.get_backend('statevector_simulator'), seed_transpiler=seed, seed_simulator=seed)\n",
    "\n",
    "slsqp = SLSQP(maxiter=1000)\n",
    "vqe = VQE(qc, optimizer=slsqp, quantum_instance=qi)\n",
    "result = vqe.compute_minimum_eigenvalue(operator= PrimitiveOp(Operator(hamil)))\n",
    "print(result)\n",
    "optimizer_evals = result.optimizer_evals\n"
   ]
  },
  {
   "cell_type": "code",
   "execution_count": 150,
   "metadata": {},
   "outputs": [
    {
     "data": {
      "text/plain": [
       "4.0575650549409294"
      ]
     },
     "execution_count": 150,
     "metadata": {},
     "output_type": "execute_result"
    }
   ],
   "source": [
    "result.optimal_parameters[noms_p[0]]"
   ]
  },
  {
   "cell_type": "code",
   "execution_count": 154,
   "metadata": {},
   "outputs": [],
   "source": [
    "qc = qc.bind_parameters(result.optimal_parameters)"
   ]
  },
  {
   "cell_type": "code",
   "execution_count": 155,
   "metadata": {},
   "outputs": [
    {
     "data": {
      "text/html": [
       "<pre style=\"word-wrap: normal;white-space: pre;background: #fff0;line-height: 1.1;font-family: &quot;Courier New&quot;,Courier,monospace\">     ┌───────────┐                         \n",
       "q_0: ┤ Rx(1.023) ├─────────────────────────\n",
       "     ├───────────┤ ┌──────────────────────┐\n",
       "q_1: ┤ Rx(5.367) ├─┤ Rx(4.05756505494093) ├\n",
       "     ├───────────┴┐└──────────────────────┘\n",
       "q_2: ┤ Rx(2.1944) ├────────────────────────\n",
       "     ├────────────┤                        \n",
       "q_3: ┤ Rx(4.4622) ├────────────────────────\n",
       "     └────────────┘                        </pre>"
      ],
      "text/plain": [
       "     ┌───────────┐                         \n",
       "q_0: ┤ Rx(1.023) ├─────────────────────────\n",
       "     ├───────────┤ ┌──────────────────────┐\n",
       "q_1: ┤ Rx(5.367) ├─┤ Rx(4.05756505494093) ├\n",
       "     ├───────────┴┐└──────────────────────┘\n",
       "q_2: ┤ Rx(2.1944) ├────────────────────────\n",
       "     ├────────────┤                        \n",
       "q_3: ┤ Rx(4.4622) ├────────────────────────\n",
       "     └────────────┘                        "
      ]
     },
     "execution_count": 155,
     "metadata": {},
     "output_type": "execute_result"
    }
   ],
   "source": [
    "qc.draw()"
   ]
  },
  {
   "cell_type": "code",
   "execution_count": null,
   "metadata": {},
   "outputs": [],
   "source": []
  }
 ],
 "metadata": {
  "kernelspec": {
   "display_name": "Python 3",
   "language": "python",
   "name": "python3"
  },
  "language_info": {
   "codemirror_mode": {
    "name": "ipython",
    "version": 3
   },
   "file_extension": ".py",
   "mimetype": "text/x-python",
   "name": "python",
   "nbconvert_exporter": "python",
   "pygments_lexer": "ipython3",
   "version": "3.7.4"
  }
 },
 "nbformat": 4,
 "nbformat_minor": 2
}
