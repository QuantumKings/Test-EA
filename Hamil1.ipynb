{
 "cells": [
  {
   "cell_type": "code",
   "execution_count": 57,
   "metadata": {},
   "outputs": [],
   "source": [
    "from qiskit import *\n",
    "from qiskit.algorithms import Grover\n",
    "from qiskit.algorithms import AmplificationProblem\n",
    "from qiskit import QuantumCircuit, transpile\n",
    "from qiskit.providers.aer import QasmSimulator\n",
    "from qiskit.visualization import plot_histogram\n",
    "import numpy as np\n",
    "import matplotlib as plt"
   ]
  },
  {
   "cell_type": "code",
   "execution_count": 64,
   "metadata": {},
   "outputs": [],
   "source": [
    "n=3 #nombre d'éléments dans le sac à dos\n",
    "p=4 #taille maximale des valeurs numériques \n",
    "\n",
    "\n",
    "def Oracle (sac_a_dos,P, Pm):\n",
    "    circuit = qiskit.QuantumCircuit(n*(2*p+5), n*(2*p+5))\n",
    "    for i in range (n):\n",
    "        for j in range (p) :\n",
    "            if (Pm[j]==1):\n",
    "                circuit.x((2*p+5)*i+j)\n",
    "        if(sac_a_dos[i]==1):\n",
    "            for k in (p,2*p):\n",
    "                if (P[i][j]==1):\n",
    "                    circuit.x((2*p+5)*i+k)\n",
    "        circuit.x((2*p+5)*i+2*p+3)\n",
    "        for l1 in range (p):\n",
    "            circuit.cx((2*p+5)*i+l1,(2*p+5)*i+p+l1-1)\n",
    "            \n",
    "        for l2 in range (p):\n",
    "            circuit.cx((2*p+5)*i+p+l2-1,(2*p+5)*i+l2)\n",
    "        \n",
    "        for l3 in range (p):\n",
    "            circuit.ccx((2*p+5)*i+l3,(2*p+5)*i+p+l3-1,(2*p+5)*i+2*p)\n",
    "            circuit.ccx((2*p+5)*i+2*p,(2*p+5)*i+2*p+3,(2*p+5)*i+2*p+2)\n",
    "            circuit.x((2*p+5)*i+2*p+4)\n",
    "            circuit.ccx((2*p+5)*i+2*p+4,(2*p+5)*i+2*p+2,(2*p+5)*i+2*p+3)\n",
    "            circuit.x((2*p+5)*i+2*p+4)\n",
    "            circuit.cx((2*p+5)*i+2*p+2,(2*p+5)*i+2*p+4)\n",
    "            circuit.cx((2*p+5)*i+l3,(2*p+5)*i+l3+p-1)\n",
    "            circuit.ccx((2*p+5)*i+l3,(2*p+5)*i+l3+p-1,(2*p+5)*i+2*p+1)\n",
    "            circuit.x((2*p+5)*i+2*p+4)\n",
    "            circuit.ccx((2*p+5)*i+2*p+4,(2*p+5)*i+2*p+1,(2*p+5)*i+2*p+3)\n",
    "            circuit.x((2*p+5)*i+2*p+4)\n",
    "            circuit.reset((2*p+5)*i+2*p)\n",
    "            circuit.reset((2*p+5)*i+2*p+1)\n",
    "            circuit.reset((2*p+5)*i+2*p+2)\n",
    "    circuit.draw()\n",
    "    return circuit[2*p+5]\n"
   ]
  },
  {
   "cell_type": "code",
   "execution_count": 65,
   "metadata": {},
   "outputs": [],
   "source": [
    "P = [[1,0,0,0],[1,1,0,0],[1,1,1,1]]\n",
    "Pmax = [1,0,0,0]\n",
    "\n",
    "sac_a_dos=qiskit.QuantumCircuit(n)\n",
    "sac_a_dos.draw()\n",
    "for i in range (n):\n",
    "    sac_a_dos.h(i)\n",
    "\n",
    "\n",
    "good_state = ['0']\n",
    "\n",
    "# specify the oracle\n",
    "#oracle = Oracle(sac_a_dos,P,Pmax)\n",
    "\n",
    "\n",
    "# define Grover's algorithm\n",
    "#problem = AmplificationProblem(oracle, is_good_state=good_state)\n",
    "\n",
    "# now we can have a look at the Grover operator that is used in running the algorithm\n",
    "# (Algorithm circuits are wrapped in a gate to be appear in composition as a block\n",
    "# so we have to decompose() the op to see it expanded into its component gates.)\n",
    "aer_simulator = Aer.get_backend('aer_simulator')\n",
    "\n",
    "grover = Grover(quantum_instance=aer_simulator)\n",
    "#result = grover.amplify(problem)"
   ]
  },
  {
   "cell_type": "code",
   "execution_count": null,
   "metadata": {},
   "outputs": [],
   "source": []
  }
 ],
 "metadata": {
  "kernelspec": {
   "display_name": "Python 3",
   "language": "python",
   "name": "python3"
  },
  "language_info": {
   "codemirror_mode": {
    "name": "ipython",
    "version": 3
   },
   "file_extension": ".py",
   "mimetype": "text/x-python",
   "name": "python",
   "nbconvert_exporter": "python",
   "pygments_lexer": "ipython3",
   "version": "3.8.5"
  }
 },
 "nbformat": 4,
 "nbformat_minor": 4
}
