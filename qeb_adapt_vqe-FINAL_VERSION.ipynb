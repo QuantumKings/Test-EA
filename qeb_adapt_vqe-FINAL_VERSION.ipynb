{
 "cells": [
  {
   "cell_type": "code",
   "execution_count": 69,
   "metadata": {},
   "outputs": [],
   "source": [
    "import qiskit\n",
    "import matplotlib.pyplot as plt\n",
    "import time\n",
    "import numpy as np\n",
    "from qiskit import QuantumCircuit\n",
    "import random as rd\n",
    "import math \n",
    "from qiskit import algorithms\n",
    "from qiskit.circuit import Parameter\n",
    "from qiskit.opflow import X,Y,Z,I,CX,CZ\n",
    "SPSA = algorithms.optimizers.SPSA #choix de l'optimiseur avant la routine VQE \n",
    "from qiskit import Aer\n",
    "from qiskit.algorithms import eval_observables\n",
    "from qiskit.quantum_info.operators import Operator\n",
    "from qiskit.extensions import CRXGate\n",
    "from qiskit.opflow.primitive_ops import PrimitiveOp\n",
    "from qiskit.opflow import CircuitStateFn\n",
    "from qiskit.algorithms import VQE\n",
    "from qiskit.opflow import commutator\n",
    "from qiskit.utils import QuantumInstance, algorithm_globals\n",
    "from qiskit.algorithms.optimizers import SLSQP\n",
    "seed = 50\n",
    "slsqp = SLSQP(maxiter=1000)\n",
    "algorithm_globals.random_seed = seed\n",
    "qi = QuantumInstance(Aer.get_backend('statevector_simulator'), seed_transpiler=seed, seed_simulator=seed)"
   ]
  },
  {
   "cell_type": "code",
   "execution_count": 6,
   "metadata": {},
   "outputs": [],
   "source": [
    "def ansatz(N): \n",
    "    qc = QuantumCircuit(N)\n",
    "    for k in range(N):\n",
    "        thet = rd.random()*2*math.pi\n",
    "        qc.ry(thet,k)\n",
    "    return(qc)\n",
    "\n",
    "def measure_energy(qc, operator): \n",
    "    psi = CircuitStateFn(qc)\n",
    "    return(psi.adjoint().compose(operator).compose(psi).eval().real)\n",
    "\n",
    "def trans(gate, n, i):\n",
    "    #Envoie le \"gate\" de OperatorBase sur le qbit i, dont n est le nb total\n",
    "    k = gate.num_qubits\n",
    "    return(I.tensorpower(max(n-i-k, 0)) ^ gate ^ I.tensorpower(i))\n",
    "# notre pool d'opérateurs est initialisé selon la méthode suivante \n",
    "\n",
    "OPS = []    \n",
    "for k in range(N): \n",
    "    OPS.append( [True,k])\n",
    "for k in range(N-1): \n",
    "    for j in range(N-1):\n",
    "        if j != k:\n",
    "            OPS.append([False,[k,j]])\n",
    "    OPS.append([False, [k, N-1]])\n",
    "\n",
    "def L_ops():\n",
    "    #select operators from pool\n",
    "    a = len(OPS)//2\n",
    "    L_c = []\n",
    "    OPS1 = OPS.copy()\n",
    "    for k in range(a):\n",
    "        j = int(rd.random()*len(OPS1))\n",
    "        L_c.append(OPS1[j])\n",
    "        del OPS1[j]\n",
    "    return(L_c)\n",
    "    \n",
    "def perm(k):\n",
    "    \"ici k est une liste de deux entiers distincts compris entre 0 et N-1\"\n",
    "    res = [i for i in range(N)] #on créée l'ordre identité\n",
    "    \n",
    "    p0 = k[0]\n",
    "    p1 = k[1]\n",
    "    res[p1], res[p0 + 1] = p0 + 1, p1\n",
    "    return(res)\n",
    "\n",
    "\n",
    "noms_p = []\n",
    "for k in range(10000):\n",
    "    noms_p += [Parameter('theta_'+str(k))]\n"
   ]
  },
  {
   "cell_type": "code",
   "execution_count": 7,
   "metadata": {},
   "outputs": [],
   "source": [
    "#définition de l'hamiltonien\n",
    "\n",
    "N = 6\n",
    "n = 10\n",
    "J = 1\n",
    "h = 1\n",
    "\n",
    "\"Hamiltonien pour 2 qbits:\"\n",
    "\n",
    "H = - J * CX.compose(Z.compose(CX)) - h * (X ^ I)\n",
    "\n",
    "#Définition de l'hamiltonien du système\n",
    "def hi(N, i):\n",
    "    \n",
    "    #n = nombre de qubits\n",
    "    \n",
    "    #i = indice\n",
    "    \n",
    "    if i >= N-1:\n",
    "        \n",
    "        return('Error Hi: The number of qubits is too small')\n",
    "    H = (- J * CX.compose(Z.compose(CX))) - (h * (X ^ I))\n",
    "    if i != 0:\n",
    "        H = I.tensorpower(i) ^ H\n",
    "    if i + 1 == N-1:\n",
    "        return(H)\n",
    "    else:\n",
    "        H = H ^ I.tensorpower(N-i-2)\n",
    "    return(H)\n",
    "\n",
    "\n",
    "hamil = hi(N, 0)\n",
    "\n",
    "for i in range(1, N-1):\n",
    "    \n",
    "    hamil += hi(N, i)\n"
   ]
  },
  {
   "cell_type": "code",
   "execution_count": 8,
   "metadata": {},
   "outputs": [],
   "source": [
    "def gradient(N, Ansatz, hamil):\n",
    "    \n",
    "    list = []\n",
    "    \n",
    "    L_c = L_ops()\n",
    "    \n",
    "    for k in L_c : \n",
    "        \n",
    "        if k[0] : \n",
    "            \n",
    "            operator = trans(Y,N,k[1])\n",
    "            \n",
    "            Com = commutator(hamil,operator)\n",
    "            \n",
    "            vqe = VQE(Ansatz, optimizer=slsqp, quantum_instance=qi)\n",
    "            \n",
    "            f = vqe.get_energy_evaluation(operator= PrimitiveOp(Operator(Com)))\n",
    "            \n",
    "            Avg = f(parameters)\n",
    "        \n",
    "            list.append([k,abs(Avg)])\n",
    "            \n",
    "        else : \n",
    "            \n",
    "            operator = trans(CX, N, k[1][0]).permute(perm(k[1])).compose(trans(Z,N,k[1][0])).compose(trans(CX, N, k[1][0]).permute(perm(k[1])))\n",
    "            \n",
    "            Com = commutator(hamil,operator)\n",
    "            \n",
    "            vqe = VQE(Ansatz, optimizer=slsqp, quantum_instance=qi)\n",
    "            \n",
    "            f = vqe.get_energy_evaluation(operator= PrimitiveOp(Operator(Com)))\n",
    "            \n",
    "            Avg = f(parameters)\n",
    "            \n",
    "            list.append([k,abs(Avg)])\n",
    "            \n",
    "    return(list)\n",
    "\n",
    "def Next_op(Ansatz, L_grad , energy, eps): \n",
    "    \n",
    "    stop = False\n",
    "    \n",
    "    L_n = QEB(L_grad)\n",
    "    \n",
    "    dE = []\n",
    "    \n",
    "    L_r =[]\n",
    "    \n",
    "    L_An = []\n",
    "    \n",
    "    imax = 0\n",
    "    \n",
    "    for i in range(len(L_n)): \n",
    "        \n",
    "        operator = L_n[i]\n",
    "        \n",
    "        Ansatz_1 = QuantumCircuit.copy(Ansatz)\n",
    "        \n",
    "        n = len(parameters)\n",
    "        \n",
    "        k = operator[0]\n",
    "        \n",
    "        if k[0]:\n",
    "        \n",
    "            Ansatz_1.ry(noms_p[n],k[1])\n",
    "        \n",
    "        else: \n",
    "            Ansatz_1.cx(k[1][0], k[1][1])\n",
    "        \n",
    "            Ansatz_1.rz(noms_p[n],k[1][0])\n",
    "        \n",
    "            Ansatz_1.cx(k[1][0], k[1][1])\n",
    "            \n",
    "        vqe = VQE(Ansatz_1, optimizer=slsqp, quantum_instance=qi)\n",
    "        \n",
    "        result = vqe.compute_minimum_eigenvalue(operator= PrimitiveOp(Operator(hamil)))\n",
    "        \n",
    "        L_r+= [result]\n",
    "        \n",
    "        L_An+= [Ansatz_1]\n",
    "        \n",
    "        dE += [energy - result.eigenvalue]\n",
    "        \n",
    "    j_max = 0\n",
    "    \n",
    "    for j in range(len(L_n)): \n",
    "        \n",
    "        if dE[j] > dE[j_max]: \n",
    "            \n",
    "            j_max = j \n",
    "            \n",
    "    if abs(dE[j_max]) < eps: \n",
    "        \n",
    "        stop = True\n",
    "    \n",
    "    result = L_r[j_max]\n",
    "    \n",
    "    print('DeltaEmax :'+  str(dE[j_max]))\n",
    "    \n",
    "    return(stop, result, L_An[j_max] )\n",
    "\n",
    "\n",
    "def grow_ansatz(Ansatz, operator, parameters):\n",
    "    \n",
    "    M = len(parameters)\n",
    "    \n",
    "    k = operator\n",
    "    \n",
    "    if k[0]:\n",
    "        \n",
    "        Ansatz.ry(noms_p[n],k[1])\n",
    "        \n",
    "    else: \n",
    "        Ansatz.cx(k[1][0], k[1][1])\n",
    "        \n",
    "        Ansatz.rz(noms_p[n],k[1][0])\n",
    "        \n",
    "        Ansatz.cx(k[1][0], k[1][1])\n",
    "        \n",
    "    return(Ansatz)\n",
    "\n",
    "\n",
    "def QEB(list):  #réalise une liste des opérateurs avec les n plus gros gradients\n",
    "    \n",
    "    L = [list[k] for k in range(len(list))]\n",
    "    \n",
    "    while len(L)>n: \n",
    "        \n",
    "        imin = 0\n",
    "        \n",
    "        for j in range(len(L)): \n",
    "            \n",
    "            if L[j][1] < L[imin][1]:\n",
    "                \n",
    "                imin= j\n",
    "                \n",
    "        del(L[imin])\n",
    "    return(L)"
   ]
  },
  {
   "cell_type": "code",
   "execution_count": 67,
   "metadata": {},
   "outputs": [
    {
     "data": {
      "text/plain": [
       "31"
      ]
     },
     "execution_count": 67,
     "metadata": {},
     "output_type": "execute_result"
    }
   ],
   "source": []
  },
  {
   "cell_type": "code",
   "execution_count": 94,
   "metadata": {
    "scrolled": true
   },
   "outputs": [
    {
     "name": "stdout",
     "output_type": "stream",
     "text": [
      "DeltaEmax :(2.9843710264433776+0j)\n",
      "Energy :-2.9843710264433776\n",
      "DeltaEmax :(2.5507051608158315+0j)\n",
      "Energy :-5.535076187259209\n",
      "DeltaEmax :(0.2601599874043705+0j)\n",
      "Energy :-5.79523617466358\n",
      "DeltaEmax :(0.017095409277144924+0j)\n",
      "Energy :-5.812331583940725\n",
      "DeltaEmax :(4.0840706816425154e-08+0j)\n",
      "converged\n",
      "energie finale :(-5.812331583940725+0j)\n",
      "4 itérations\n",
      "[-3.14132808  4.13836764 -4.19171498  0.60323755  6.1117739 ]\n"
     ]
    }
   ],
   "source": [
    "\n",
    "N = 6\n",
    "\n",
    "n = 15\n",
    "\n",
    "J = 1\n",
    "\n",
    "h = 0\n",
    "\n",
    "\n",
    "cpt = 40\n",
    "\n",
    "while cpt != 0:\n",
    "    \n",
    "    cpt -= 40\n",
    "    \n",
    "    Ansatz = ansatz(6)\n",
    "    \n",
    "    Gradient = 1000\n",
    "    \n",
    "    eps = 0.000001\n",
    "    \n",
    "    Ansatz.rx(noms_p[0],1)\n",
    "    \n",
    "    slsqp = SLSQP(maxiter=1000)\n",
    "    \n",
    "    parameters = np.array([0])\n",
    "    \n",
    "    energy = 0\n",
    "    n_itérations = 0 \n",
    "    while Gradient >= eps :\n",
    "        l = gradient(N, Ansatz, hamil) #list of [operator, meanvalue]\n",
    "        \n",
    "        Nop = Next_op(Ansatz, l ,energy, eps)\n",
    "        \n",
    "        if Nop[0]:\n",
    "            \n",
    "            print(\"converged\")\n",
    "            \n",
    "            print('energie finale :' + str(energy))\n",
    "            \n",
    "            break \n",
    "            \n",
    "        Ansatz = Nop[2]\n",
    "        \n",
    "        parameters = Nop[1].optimal_point\n",
    "        \n",
    "        energy = Nop[1].eigenvalue\n",
    "        \n",
    "        print('Energy :' + str(energy.real))\n",
    "        n_itérations+=1\n",
    "    print(str(n_itérations) + ' itérations')\n",
    "    \n",
    "    print(parameters)"
   ]
  },
  {
   "cell_type": "code",
   "execution_count": 93,
   "metadata": {},
   "outputs": [
    {
     "name": "stdout",
     "output_type": "stream",
     "text": [
      "converged\n",
      "energie finale :(-6.014298743578439+0j)\n",
      "5 itérations\n"
     ]
    }
   ],
   "source": []
  },
  {
   "cell_type": "code",
   "execution_count": 68,
   "metadata": {},
   "outputs": [
    {
     "data": {
      "text/plain": [
       "[4, 7, 10, 13, 16, 19, 22, 25, 28, 31]"
      ]
     },
     "execution_count": 68,
     "metadata": {},
     "output_type": "execute_result"
    }
   ],
   "source": [
    "XX = [1 + 3 * (k+1) for k in range(10)]\n",
    "XX"
   ]
  },
  {
   "cell_type": "raw",
   "metadata": {},
   "source": [
    "plt.plot(XX, TIME)\n",
    "plt.xlabel('Parameter n')\n",
    "plt.ylabel('Loop Processing Time')\n",
    "plt.show()"
   ]
  },
  {
   "cell_type": "code",
   "execution_count": 61,
   "metadata": {},
   "outputs": [],
   "source": [
    "ZZ = []\n",
    "\n",
    "for i in range(20):\n",
    "    res = 0\n",
    "    for j in range(i+1):\n",
    "        res += YY[j]\n",
    "    ZZ.append(res/(i+1))\n",
    "    \n",
    "#Moyenne glissante"
   ]
  },
  {
   "cell_type": "code",
   "execution_count": 62,
   "metadata": {},
   "outputs": [
    {
     "data": {
      "text/plain": [
       "[1, 2, 3, 4, 5, 6, 7, 8, 9, 10, 11, 12, 13, 14, 15, 16, 17, 18, 19, 20]"
      ]
     },
     "execution_count": 62,
     "metadata": {},
     "output_type": "execute_result"
    }
   ],
   "source": [
    "XX"
   ]
  },
  {
   "cell_type": "markdown",
   "metadata": {},
   "source": [
    "plt.plot(XX, ZZ)\n",
    "plt.xlabel('Iteration')\n",
    "plt.ylabel('Sliding Mean')\n",
    "plt.show()"
   ]
  },
  {
   "cell_type": "code",
   "execution_count": 64,
   "metadata": {},
   "outputs": [
    {
     "data": {
      "text/plain": [
       "[-6.349171664104778,\n",
       " -6.293940304073769,\n",
       " -5.8449323898556775,\n",
       " -5.721410854504764,\n",
       " -6.443330841873499,\n",
       " -5.21419525232191,\n",
       " -5.895816013297627,\n",
       " -3.9749992549639845,\n",
       " -6.151482974570749,\n",
       " -6.443330839752953,\n",
       " -5.752201693449638,\n",
       " -5.39080987460828,\n",
       " -5.477890598206743,\n",
       " -6.2721094772689385,\n",
       " -6.4283722458247174,\n",
       " -6.4433307308650525,\n",
       " -6.2369848290165955,\n",
       " -6.4433308145941925,\n",
       " -6.443330834640883,\n",
       " -6.443330662984712]"
      ]
     },
     "execution_count": 64,
     "metadata": {},
     "output_type": "execute_result"
    }
   ],
   "source": [
    "YY"
   ]
  },
  {
   "cell_type": "code",
   "execution_count": 24,
   "metadata": {},
   "outputs": [
    {
     "data": {
      "image/png": "[encoded data removed]",
      "text/plain": [
       "<Figure size 432x288 with 1 Axes>"
      ]
     },
     "metadata": {
      "needs_background": "light"
     },
     "output_type": "display_data"
    }
   ],
   "source": [
    "plt.plot(XX, YY)\n",
    "plt.show()"
   ]
  },
  {
   "cell_type": "code",
   "execution_count": null,
   "metadata": {},
   "outputs": [],
   "source": []
  },
  {
   "cell_type": "code",
   "execution_count": null,
   "metadata": {},
   "outputs": [],
   "source": []
  },
  {
   "cell_type": "code",
   "execution_count": null,
   "metadata": {},
   "outputs": [],
   "source": []
  },
  {
   "cell_type": "code",
   "execution_count": null,
   "metadata": {},
   "outputs": [],
   "source": []
  }
 ],
 "metadata": {
  "kernelspec": {
   "display_name": "Python 3 (ipykernel)",
   "language": "python",
   "name": "python3"
  },
  "language_info": {
   "codemirror_mode": {
    "name": "ipython",
    "version": 3
   },
   "file_extension": ".py",
   "mimetype": "text/x-python",
   "name": "python",
   "nbconvert_exporter": "python",
   "pygments_lexer": "ipython3",
   "version": "3.9.12"
  }
 },
 "nbformat": 4,
 "nbformat_minor": 2
}
